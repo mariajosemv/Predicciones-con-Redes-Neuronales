{
  "nbformat": 4,
  "nbformat_minor": 0,
  "metadata": {
    "colab": {
      "name": "diseño_entrenamiento_y_evaluacion_del_modelo.ipynb",
      "provenance": [],
      "collapsed_sections": [],
      "authorship_tag": "ABX9TyNm6kBtqXlrCZaoXv/Qfoea",
      "include_colab_link": true
    },
    "kernelspec": {
      "name": "python3",
      "display_name": "Python 3"
    }
  },
  "cells": [
    {
      "cell_type": "markdown",
      "metadata": {
        "id": "view-in-github",
        "colab_type": "text"
      },
      "source": [
        "<a href=\"https://colab.research.google.com/github/mariajosemv/Predicciones-con-Redes-Neuronales/blob/main/intro_deep_learning/dise%C3%B1o_entrenamiento_y_evaluacion_del_modelo.ipynb\" target=\"_parent\"><img src=\"https://colab.research.google.com/assets/colab-badge.svg\" alt=\"Open In Colab\"/></a>"
      ]
    },
    {
      "cell_type": "markdown",
      "metadata": {
        "id": "OluWPsr973qH"
      },
      "source": [
        "# Inicialización"
      ]
    },
    {
      "cell_type": "code",
      "metadata": {
        "id": "n2QCogfj086j",
        "colab": {
          "base_uri": "https://localhost:8080/"
        },
        "outputId": "a9bec7ba-66f3-4840-a482-2e4ed9228b24"
      },
      "source": [
        "import pandas as pd\n",
        "import numpy as np\n",
        "\n",
        "from google.colab import drive\n",
        "drive.mount('/content/drive')"
      ],
      "execution_count": 1,
      "outputs": [
        {
          "output_type": "stream",
          "text": [
            "Mounted at /content/drive\n"
          ],
          "name": "stdout"
        }
      ]
    },
    {
      "cell_type": "code",
      "metadata": {
        "id": "bvJnqtYH1MkC",
        "colab": {
          "base_uri": "https://localhost:8080/"
        },
        "outputId": "297531e3-5717-4cb9-eb6b-ee9e565c3624"
      },
      "source": [
        "%cd '/content/drive/My Drive/Colab Notebooks/Platzi/curso-redes-neuronales/github/intro_deep_learning'\n",
        "%ls"
      ],
      "execution_count": 2,
      "outputs": [
        {
          "output_type": "stream",
          "text": [
            "/content/drive/My Drive/Colab Notebooks/Platzi/curso-redes-neuronales/github/intro_deep_learning\n",
            "'Copia de design-training-and-evaluation.ipynb'   ingenieria_de_datos.ipynb\n",
            " \u001b[0m\u001b[01;34mdatasets\u001b[0m/\n"
          ],
          "name": "stdout"
        }
      ]
    },
    {
      "cell_type": "code",
      "metadata": {
        "id": "G7NfuP3r1QXy"
      },
      "source": [
        "cars = pd.read_parquet('./datasets/cars.parquet')"
      ],
      "execution_count": 3,
      "outputs": []
    },
    {
      "cell_type": "markdown",
      "metadata": {
        "id": "WP8W386n6LMh"
      },
      "source": [
        "# División datos de entrenamiento, validación y prueba. "
      ]
    },
    {
      "cell_type": "code",
      "metadata": {
        "id": "83P-OyNO6Rte"
      },
      "source": [
        "target = cars['price']\n",
        "cars.drop('price', axis=1, inplace=True)"
      ],
      "execution_count": 4,
      "outputs": []
    },
    {
      "cell_type": "code",
      "metadata": {
        "id": "0OJnB3LK6N8q",
        "colab": {
          "base_uri": "https://localhost:8080/"
        },
        "outputId": "1630d9ff-c880-4577-96cb-b66f0554319a"
      },
      "source": [
        "from sklearn.model_selection import train_test_split\n",
        "# Train/test 80:20\n",
        "x_train, x_test, y_train, y_test = train_test_split(cars, target, test_size=0.2,random_state=2020)\n",
        "# Train/Validation 90:10\n",
        "x_train, x_val, y_train, y_val = train_test_split(x_train,y_train, test_size=0.1, random_state=2020)\n",
        "\n",
        "print(\"Shape of x_train:\",x_train.shape)\n",
        "print(\"Shape of x_test:\",x_test.shape)\n",
        "print(\"Shape of x_val:\",x_val.shape)\n",
        "print(\"Shape of y_train:\",y_train.shape)\n",
        "print(\"Shape of y_test:\",y_test.shape)\n",
        "print(\"Shape of y_val:\",y_val.shape)"
      ],
      "execution_count": 5,
      "outputs": [
        {
          "output_type": "stream",
          "text": [
            "Shape of x_train: (312869, 99)\n",
            "Shape of x_test: (86909, 99)\n",
            "Shape of x_val: (34764, 99)\n",
            "Shape of y_train: (312869,)\n",
            "Shape of y_test: (86909,)\n",
            "Shape of y_val: (34764,)\n"
          ],
          "name": "stdout"
        }
      ]
    },
    {
      "cell_type": "markdown",
      "metadata": {
        "id": "cxSOtHA28pue"
      },
      "source": [
        "## Estandarización\n",
        "\n",
        "Transformar las variables a rangos comparables entre sí."
      ]
    },
    {
      "cell_type": "code",
      "metadata": {
        "id": "DfwmDNvv9H_f",
        "colab": {
          "base_uri": "https://localhost:8080/"
        },
        "outputId": "b1b04245-7a87-4eac-c17d-a59943e8d275"
      },
      "source": [
        "print(x_train.shape)\n",
        "print(y_train.shape)"
      ],
      "execution_count": 6,
      "outputs": [
        {
          "output_type": "stream",
          "text": [
            "(312869, 99)\n",
            "(312869,)\n"
          ],
          "name": "stdout"
        }
      ]
    },
    {
      "cell_type": "code",
      "metadata": {
        "id": "yFdBJpFI-ug1"
      },
      "source": [
        "y_train = y_train.values.reshape(-1,1)\n",
        "y_test = y_test.values.reshape(-1,1)\n",
        "y_val = y_val.values.reshape(-1,1)"
      ],
      "execution_count": 7,
      "outputs": []
    },
    {
      "cell_type": "code",
      "metadata": {
        "id": "weMaA9h88r5S"
      },
      "source": [
        "from sklearn.preprocessing import StandardScaler\n",
        "\n",
        "# scaler for x\n",
        "scaler = StandardScaler()\n",
        "scaler.fit(x_train) \n",
        "x_train_scaled = scaler.transform(x_train)\n",
        "x_val_scaled = scaler.transform(x_val)\n",
        "x_test_scaled = scaler.transform(x_test)\n",
        "\n",
        "# scaler for y\n",
        "scaler2 = StandardScaler()\n",
        "scaler2.fit(y_train) \n",
        "y_train_scaled = scaler2.transform(y_train)\n",
        "y_val_scaled = scaler2.transform(y_val)\n",
        "y_test_scaled = scaler2.transform(y_test)"
      ],
      "execution_count": 8,
      "outputs": []
    },
    {
      "cell_type": "markdown",
      "metadata": {
        "id": "r_NBnKsfDHcV"
      },
      "source": [
        "# Arquitectura de la red\n",
        "\n",
        "- Los datos de entrada tienen 99 variables, por lo tanto el número de neuronas por capa será de 99 x 2 = 198 $\\Rightarrow$ $2^8$ = 256. \n",
        "- Debido a la gran cantidad de datos, se implementaran 2 capas ocultas, asignando luego de estas una regularización de tipo `Dropout` para evitar un posible sobre ajuste del modelo. \n",
        "- Como se trata de un problema de regresión, la función de activación será la función lineal y la métrica para la función de costo será **MSE**.\n",
        "\n",
        "En este caso particular buscamos que el MSE en el set de pruebas sea igual o inferior a 0.4. \n",
        "\n",
        "Inicialmente se entrenará el modelo con 5 epochs para evaluar si la arquitectura de la red se dirige hacia un valor mínimo del MSE. "
      ]
    },
    {
      "cell_type": "code",
      "metadata": {
        "id": "cMd9WLesP6y5"
      },
      "source": [
        "from keras.models import Sequential\n",
        "from keras.layers import Dense, Dropout\n",
        "from keras.utils import plot_model\n",
        "\n",
        "model = Sequential()\n",
        "model.add(Dense(256,input_dim = x_train.shape[1],activation=\"relu\"))\n",
        "model.add(Dense(128,activation=\"relu\"))\n",
        "model.add(Dense(128,activation=\"relu\"))\n",
        "model.add(Dropout(0.3))\n",
        "model.add(Dense(1,activation = \"linear\")) \n",
        "model.compile(optimizer = \"adam\",loss=\"mse\",metrics=[\"mean_absolute_error\"])\n"
      ],
      "execution_count": 45,
      "outputs": []
    },
    {
      "cell_type": "code",
      "metadata": {
        "id": "P2xUQlAsRQRh",
        "colab": {
          "base_uri": "https://localhost:8080/"
        },
        "outputId": "9fce2daa-81af-4967-df81-dad7724c73da"
      },
      "source": [
        "history= model.fit(x_train_scaled,y_train_scaled, validation_data = (x_val_scaled,y_val_scaled),epochs=5, batch_size=1024)"
      ],
      "execution_count": 32,
      "outputs": [
        {
          "output_type": "stream",
          "text": [
            "Epoch 1/5\n",
            "306/306 [==============================] - 5s 14ms/step - loss: 0.6466 - mean_absolute_error: 0.5805 - val_loss: 0.6393 - val_mean_absolute_error: 0.4558\n",
            "Epoch 2/5\n",
            "306/306 [==============================] - 4s 14ms/step - loss: 0.4860 - mean_absolute_error: 0.4618 - val_loss: 0.4741 - val_mean_absolute_error: 0.4472\n",
            "Epoch 3/5\n",
            "306/306 [==============================] - 4s 14ms/step - loss: 0.4611 - mean_absolute_error: 0.4494 - val_loss: 0.4585 - val_mean_absolute_error: 0.4378\n",
            "Epoch 4/5\n",
            "306/306 [==============================] - 4s 14ms/step - loss: 0.4469 - mean_absolute_error: 0.4409 - val_loss: 0.4332 - val_mean_absolute_error: 0.4392\n",
            "Epoch 5/5\n",
            "306/306 [==============================] - 4s 14ms/step - loss: 0.4250 - mean_absolute_error: 0.4329 - val_loss: 0.4411 - val_mean_absolute_error: 0.4327\n"
          ],
          "name": "stdout"
        }
      ]
    },
    {
      "cell_type": "markdown",
      "metadata": {
        "id": "hV3rFU2M2X9s"
      },
      "source": [
        "Como se ha demostrado, el modelo va reduciendo su pérdida a medida que aumentan los entrenamientos, por esta razón se aumentará el número total de `epochs` a 35."
      ]
    },
    {
      "cell_type": "code",
      "metadata": {
        "colab": {
          "base_uri": "https://localhost:8080/"
        },
        "id": "AJ0WZw6k-IYd",
        "outputId": "6db2db50-9bec-4583-def2-17ee008be793"
      },
      "source": [
        "from keras.models import Sequential\n",
        "from keras.layers import Dense, Dropout\n",
        "from keras.utils import plot_model\n",
        "\n",
        "model = Sequential()\n",
        "model.add(Dense(256,input_dim = x_train.shape[1],activation=\"relu\"))\n",
        "model.add(Dense(128,activation=\"relu\"))\n",
        "model.add(Dense(128,activation=\"relu\"))\n",
        "model.add(Dropout(0.3))\n",
        "model.add(Dense(1,activation = \"linear\")) \n",
        "model.compile(optimizer = \"adam\",loss=\"mse\",metrics=[\"mean_absolute_error\"])\n",
        "\n",
        "history= model.fit(x_train_scaled,y_train_scaled, validation_data = (x_val_scaled,y_val_scaled),epochs=35, batch_size=1024)"
      ],
      "execution_count": 51,
      "outputs": [
        {
          "output_type": "stream",
          "text": [
            "Epoch 1/35\n",
            "306/306 [==============================] - 5s 14ms/step - loss: 0.6605 - mean_absolute_error: 0.5862 - val_loss: 0.5720 - val_mean_absolute_error: 0.4591\n",
            "Epoch 2/35\n",
            "306/306 [==============================] - 4s 14ms/step - loss: 0.4869 - mean_absolute_error: 0.4593 - val_loss: 0.5069 - val_mean_absolute_error: 0.4467\n",
            "Epoch 3/35\n",
            "306/306 [==============================] - 4s 14ms/step - loss: 0.4505 - mean_absolute_error: 0.4473 - val_loss: 0.4924 - val_mean_absolute_error: 0.4419\n",
            "Epoch 4/35\n",
            "306/306 [==============================] - 4s 14ms/step - loss: 0.4376 - mean_absolute_error: 0.4409 - val_loss: 0.4447 - val_mean_absolute_error: 0.4287\n",
            "Epoch 5/35\n",
            "306/306 [==============================] - 4s 14ms/step - loss: 0.4254 - mean_absolute_error: 0.4334 - val_loss: 0.4690 - val_mean_absolute_error: 0.4273\n",
            "Epoch 6/35\n",
            "306/306 [==============================] - 4s 14ms/step - loss: 0.4221 - mean_absolute_error: 0.4311 - val_loss: 0.4261 - val_mean_absolute_error: 0.4303\n",
            "Epoch 7/35\n",
            "306/306 [==============================] - 4s 14ms/step - loss: 0.4121 - mean_absolute_error: 0.4248 - val_loss: 0.4682 - val_mean_absolute_error: 0.4289\n",
            "Epoch 8/35\n",
            "306/306 [==============================] - 4s 14ms/step - loss: 0.4199 - mean_absolute_error: 0.4230 - val_loss: 0.4701 - val_mean_absolute_error: 0.4191\n",
            "Epoch 9/35\n",
            "306/306 [==============================] - 4s 14ms/step - loss: 0.4147 - mean_absolute_error: 0.4214 - val_loss: 0.4047 - val_mean_absolute_error: 0.4132\n",
            "Epoch 10/35\n",
            "306/306 [==============================] - 4s 14ms/step - loss: 0.3946 - mean_absolute_error: 0.4149 - val_loss: 0.4134 - val_mean_absolute_error: 0.4094\n",
            "Epoch 11/35\n",
            "306/306 [==============================] - 4s 14ms/step - loss: 0.3915 - mean_absolute_error: 0.4103 - val_loss: 0.4090 - val_mean_absolute_error: 0.4148\n",
            "Epoch 12/35\n",
            "306/306 [==============================] - 4s 14ms/step - loss: 0.3859 - mean_absolute_error: 0.4101 - val_loss: 0.4151 - val_mean_absolute_error: 0.4111\n",
            "Epoch 13/35\n",
            "306/306 [==============================] - 4s 14ms/step - loss: 0.3795 - mean_absolute_error: 0.4065 - val_loss: 0.4005 - val_mean_absolute_error: 0.4112\n",
            "Epoch 14/35\n",
            "306/306 [==============================] - 4s 14ms/step - loss: 0.3760 - mean_absolute_error: 0.4037 - val_loss: 0.4054 - val_mean_absolute_error: 0.4099\n",
            "Epoch 15/35\n",
            "306/306 [==============================] - 4s 14ms/step - loss: 0.3719 - mean_absolute_error: 0.4024 - val_loss: 0.3943 - val_mean_absolute_error: 0.4066\n",
            "Epoch 16/35\n",
            "306/306 [==============================] - 4s 14ms/step - loss: 0.3702 - mean_absolute_error: 0.4008 - val_loss: 0.3991 - val_mean_absolute_error: 0.4057\n",
            "Epoch 17/35\n",
            "306/306 [==============================] - 4s 14ms/step - loss: 0.3645 - mean_absolute_error: 0.3972 - val_loss: 0.3971 - val_mean_absolute_error: 0.4104\n",
            "Epoch 18/35\n",
            "306/306 [==============================] - 4s 14ms/step - loss: 0.3680 - mean_absolute_error: 0.3979 - val_loss: 0.3898 - val_mean_absolute_error: 0.4056\n",
            "Epoch 19/35\n",
            "306/306 [==============================] - 4s 14ms/step - loss: 0.3581 - mean_absolute_error: 0.3947 - val_loss: 0.3859 - val_mean_absolute_error: 0.4018\n",
            "Epoch 20/35\n",
            "306/306 [==============================] - 4s 14ms/step - loss: 0.3556 - mean_absolute_error: 0.3928 - val_loss: 0.3976 - val_mean_absolute_error: 0.4080\n",
            "Epoch 21/35\n",
            "306/306 [==============================] - 4s 13ms/step - loss: 0.3544 - mean_absolute_error: 0.3926 - val_loss: 0.3899 - val_mean_absolute_error: 0.4044\n",
            "Epoch 22/35\n",
            "306/306 [==============================] - 4s 14ms/step - loss: 0.3499 - mean_absolute_error: 0.3902 - val_loss: 0.3827 - val_mean_absolute_error: 0.4012\n",
            "Epoch 23/35\n",
            "306/306 [==============================] - 4s 14ms/step - loss: 0.3487 - mean_absolute_error: 0.3898 - val_loss: 0.3869 - val_mean_absolute_error: 0.3969\n",
            "Epoch 24/35\n",
            "306/306 [==============================] - 4s 14ms/step - loss: 0.3436 - mean_absolute_error: 0.3869 - val_loss: 0.3888 - val_mean_absolute_error: 0.4005\n",
            "Epoch 25/35\n",
            "306/306 [==============================] - 4s 15ms/step - loss: 0.3432 - mean_absolute_error: 0.3864 - val_loss: 0.3809 - val_mean_absolute_error: 0.4015\n",
            "Epoch 26/35\n",
            "306/306 [==============================] - 4s 14ms/step - loss: 0.3371 - mean_absolute_error: 0.3828 - val_loss: 0.3807 - val_mean_absolute_error: 0.3968\n",
            "Epoch 27/35\n",
            "306/306 [==============================] - 4s 14ms/step - loss: 0.3399 - mean_absolute_error: 0.3838 - val_loss: 0.3844 - val_mean_absolute_error: 0.3987\n",
            "Epoch 28/35\n",
            "306/306 [==============================] - 4s 14ms/step - loss: 0.3332 - mean_absolute_error: 0.3804 - val_loss: 0.3849 - val_mean_absolute_error: 0.3984\n",
            "Epoch 29/35\n",
            "306/306 [==============================] - 4s 14ms/step - loss: 0.3335 - mean_absolute_error: 0.3810 - val_loss: 0.3842 - val_mean_absolute_error: 0.3982\n",
            "Epoch 30/35\n",
            "306/306 [==============================] - 4s 14ms/step - loss: 0.3326 - mean_absolute_error: 0.3807 - val_loss: 0.3810 - val_mean_absolute_error: 0.4008\n",
            "Epoch 31/35\n",
            "306/306 [==============================] - 4s 14ms/step - loss: 0.3310 - mean_absolute_error: 0.3801 - val_loss: 0.3781 - val_mean_absolute_error: 0.3965\n",
            "Epoch 32/35\n",
            "306/306 [==============================] - 4s 14ms/step - loss: 0.3261 - mean_absolute_error: 0.3766 - val_loss: 0.3802 - val_mean_absolute_error: 0.3980\n",
            "Epoch 33/35\n",
            "306/306 [==============================] - 4s 14ms/step - loss: 0.3266 - mean_absolute_error: 0.3773 - val_loss: 0.3809 - val_mean_absolute_error: 0.3979\n",
            "Epoch 34/35\n",
            "306/306 [==============================] - 4s 14ms/step - loss: 0.3224 - mean_absolute_error: 0.3745 - val_loss: 0.3820 - val_mean_absolute_error: 0.3955\n",
            "Epoch 35/35\n",
            "306/306 [==============================] - 4s 14ms/step - loss: 0.3238 - mean_absolute_error: 0.3753 - val_loss: 0.3803 - val_mean_absolute_error: 0.3973\n"
          ],
          "name": "stdout"
        }
      ]
    },
    {
      "cell_type": "markdown",
      "metadata": {
        "id": "4vmw5vp2oPNs"
      },
      "source": [
        "# Evaluación del modelo"
      ]
    },
    {
      "cell_type": "code",
      "metadata": {
        "id": "QhT40F7KoRn2",
        "colab": {
          "base_uri": "https://localhost:8080/"
        },
        "outputId": "2c09651c-7297-4a7b-bcf7-63dd9cce8186"
      },
      "source": [
        "result = model.evaluate(x_test_scaled,y_test_scaled)\n",
        "for i in range(len(model.metrics_names)):\n",
        " print(\"Metric \",model.metrics_names[i],\":\",\n",
        "str(round(result[i],2)))"
      ],
      "execution_count": 52,
      "outputs": [
        {
          "output_type": "stream",
          "text": [
            "2716/2716 [==============================] - 3s 1ms/step - loss: 0.3869 - mean_absolute_error: 0.3989\n",
            "Metric  loss : 0.39\n",
            "Metric  mean_absolute_error : 0.4\n"
          ],
          "name": "stdout"
        }
      ]
    },
    {
      "cell_type": "markdown",
      "metadata": {
        "id": "eGmi_hbxyx7u"
      },
      "source": [
        "Con el set de pruebas se obtuvo MAE igual a 0.4, lo que era el objetivo propuesto para este modelo. Por último evaluemos las curvas de aprendizaje con el fin de verificar que no haya sobreajuste."
      ]
    },
    {
      "cell_type": "markdown",
      "metadata": {
        "id": "UufD1F21oanX"
      },
      "source": [
        "## Visualización de las curvas de aprendizaje\n"
      ]
    },
    {
      "cell_type": "code",
      "metadata": {
        "id": "3dDU3Br8oaV3",
        "colab": {
          "base_uri": "https://localhost:8080/",
          "height": 404
        },
        "outputId": "6f0bdd96-7e6c-4f5d-a400-c6ee88ff744f"
      },
      "source": [
        "import matplotlib.pyplot as plt\n",
        "%matplotlib inline\n",
        "plt.figure(figsize=(13,6))\n",
        "plt.plot(history.history['loss'])\n",
        "plt.plot(history.history['val_loss'])\n",
        "plt.title(\"Losses for the training and valididation set by epoch\")\n",
        "plt.ylabel('MSE')\n",
        "plt.xlabel('Epochs')\n",
        "plt.legend(['Train', 'Validation'], loc='upper right')\n",
        "plt.show()"
      ],
      "execution_count": 53,
      "outputs": [
        {
          "output_type": "display_data",
          "data": {
            "image/png": "[encoded data removed]",
            "text/plain": [
              "<Figure size 936x432 with 1 Axes>"
            ]
          },
          "metadata": {
            "tags": [],
            "needs_background": "light"
          }
        }
      ]
    },
    {
      "cell_type": "markdown",
      "metadata": {
        "id": "8ZNyIsRlzGhP"
      },
      "source": [
        "Es la gráfica anterior se observa que los valores de pérdidas del set de entrenamiento y validación iban disminuyendo consecuentemente con el número de iteraciones. \n",
        "\n",
        "Alrededor de la iteración 2 se evidencia un pico que puede deberse a los efectos de la regularización Dropout, en donde pudieron haberse desactivado neuronas importantes. Sin embargo, en las siguientes iteraciones se mantiene la estabilización sin existir una diferencia importante entre los sets de entrenamiento y validación que indique un sobreajuste del modelo. \n",
        "\n",
        "Por último veamos algunos ejemplos de las predicciones que realiza el modelo y guardemos sus parámetros para ser utilizado posteriormente sin necesitad de repetir el entrenamiento."
      ]
    },
    {
      "cell_type": "code",
      "metadata": {
        "id": "CrkISHEroiZU",
        "colab": {
          "base_uri": "https://localhost:8080/"
        },
        "outputId": "035b0beb-5245-43e3-a608-35b5a032ea58"
      },
      "source": [
        "real=pd.DataFrame(y_train)\n",
        "predict=model.predict(pd.DataFrame(x_train_scaled))\n",
        "desregularization = scaler2.inverse_transform(predict)\n",
        "pred_escal =pd.DataFrame(desregularization)\n",
        "for i in range(0,5):\n",
        "\tprint(\"Real=%s, Prediction=%s\" % (real[0][i], pred_escal[0][i]))"
      ],
      "execution_count": 54,
      "outputs": [
        {
          "output_type": "stream",
          "text": [
            "Real=18650, Prediction=15456.885\n",
            "Real=9950, Prediction=9976.389\n",
            "Real=2000, Prediction=2306.7466\n",
            "Real=7999, Prediction=6970.6274\n",
            "Real=23999, Prediction=23199.463\n"
          ],
          "name": "stdout"
        }
      ]
    },
    {
      "cell_type": "code",
      "metadata": {
        "id": "0Yw05KeMychv"
      },
      "source": [
        "# guardar el modelo\n",
        "model.save('./model/PrediccionPrecios.h5')"
      ],
      "execution_count": 56,
      "outputs": []
    }
  ]
}