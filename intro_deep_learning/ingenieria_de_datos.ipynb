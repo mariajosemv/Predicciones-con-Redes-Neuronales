{
  "nbformat": 4,
  "nbformat_minor": 0,
  "metadata": {
    "colab": {
      "name": "ingenieria_de_datos.ipynb",
      "provenance": [],
      "collapsed_sections": [],
      "authorship_tag": "ABX9TyM20VdKYJt2o5KqnebdQtUd",
      "include_colab_link": true
    },
    "kernelspec": {
      "name": "python3",
      "display_name": "Python 3"
    }
  },
  "cells": [
    {
      "cell_type": "markdown",
      "metadata": {
        "id": "view-in-github",
        "colab_type": "text"
      },
      "source": [
        "<a href=\"https://colab.research.google.com/github/mariajosemv/Predicciones-con-Redes-Neuronales/blob/main/intro_deep_learning/ingenieria_de_datos.ipynb\" target=\"_parent\"><img src=\"https://colab.research.google.com/assets/colab-badge.svg\" alt=\"Open In Colab\"/></a>"
      ]
    },
    {
      "cell_type": "markdown",
      "metadata": {
        "id": "xGQf_pQlxM0S"
      },
      "source": [
        "# Contexto analítico"
      ]
    },
    {
      "cell_type": "markdown",
      "metadata": {
        "id": "2-l8liZKxRdr"
      },
      "source": [
        "Este caso se basa en un reto propuesto en la plataforma [Kaggle](https://www.kaggle.com/austinreese/craigslist-carstrucks-data).\n",
        "\n",
        "El mercado de autos usados es reconocido por ser un sector economico muy competido con un centenar de compañias que luchan por hacerse con una porción de la torta. El precio de los autos se devalua año año debido a multiples factores y determinar el precio correcto es clave para las compañias para lograr competir en el mercado. En este caso se requiere implementar una red neural que permita determinar el valor más justo para los vehiculos dependiento de sus atributos.\n",
        "\n",
        "Se cuenta con un dataset (`craiglist_cars.csv`) que serán cargados directamente a Colab luego de su compresión. \n"
      ]
    },
    {
      "cell_type": "code",
      "metadata": {
        "id": "elQImJRXG0Ri",
        "colab": {
          "base_uri": "https://localhost:8080/"
        },
        "outputId": "597d0f4c-dc2a-409a-ad5b-9d4da45b8843"
      },
      "source": [
        "from google.colab import drive\n",
        "drive.mount('/content/drive')"
      ],
      "execution_count": 1,
      "outputs": [
        {
          "output_type": "stream",
          "text": [
            "Mounted at /content/drive\n"
          ],
          "name": "stdout"
        }
      ]
    },
    {
      "cell_type": "code",
      "metadata": {
        "id": "VcBlaNJNHTDQ",
        "colab": {
          "base_uri": "https://localhost:8080/"
        },
        "outputId": "35e3c3e8-b438-4bf0-bfcb-06633f7c6294"
      },
      "source": [
        "%cd '/content/drive/MyDrive/Colab Notebooks/Platzi/curso-redes-neuronales/github/intro_deep_learning'\n",
        "%ls"
      ],
      "execution_count": 4,
      "outputs": [
        {
          "output_type": "stream",
          "text": [
            "/content/drive/MyDrive/Colab Notebooks/Platzi/curso-redes-neuronales/github/intro_deep_learning\n",
            "\u001b[0m\u001b[01;34mdatasets\u001b[0m/  preparacion-de-los-datos.ipynb\n"
          ],
          "name": "stdout"
        }
      ]
    },
    {
      "cell_type": "code",
      "metadata": {
        "id": "-iq38FGzGBm3"
      },
      "source": [
        "import pandas as pd\n",
        "import numpy as np\n",
        "cars = pd.read_csv('./datasets/craiglist_cars.zip')\n"
      ],
      "execution_count": 5,
      "outputs": []
    },
    {
      "cell_type": "markdown",
      "metadata": {
        "id": "SmFDrnqvKiOo"
      },
      "source": [
        "# <h1 id=\"exploration\">Ingeniería de datos</h1>\n"
      ]
    },
    {
      "cell_type": "markdown",
      "metadata": {
        "id": "8bbWz0EBUuED"
      },
      "source": [
        "## Evaluación de la cantidad, tipo y completitud de las variables disponibles. "
      ]
    },
    {
      "cell_type": "markdown",
      "metadata": {
        "id": "qZg4RE481iR4"
      },
      "source": [
        "Se comenzará por reemplazar por la moda aquellas columnas que posean al menos un 10% de valores nulos."
      ]
    },
    {
      "cell_type": "code",
      "metadata": {
        "id": "M6_m7I9dLRRO",
        "colab": {
          "base_uri": "https://localhost:8080/"
        },
        "outputId": "e49ef5f6-4d33-4cd5-9a13-fa100ad9a644"
      },
      "source": [
        "# Diccionario que guarda los porcentajes de valores nulos en cada columna\n",
        "nan_percent_values = dict(cars.isna().sum()/cars.shape[0] * 100)\n",
        "nan_percent_values"
      ],
      "execution_count": 6,
      "outputs": [
        {
          "output_type": "execute_result",
          "data": {
            "text/plain": [
              "{'condition': 36.860648682981164,\n",
              " 'cylinders': 28.3063547367113,\n",
              " 'drive': 13.280189256734676,\n",
              " 'fuel': 0.8395045818355878,\n",
              " 'manufacturer': 3.6461377726433803,\n",
              " 'paint_color': 19.73457111165319,\n",
              " 'price': 0.0,\n",
              " 'size': 58.13362114594216,\n",
              " 'title_status': 0.6629969024858356,\n",
              " 'transmission': 0.9890873609455472,\n",
              " 'type': 11.566660990191972,\n",
              " 'year': 0.0}"
            ]
          },
          "metadata": {
            "tags": []
          },
          "execution_count": 6
        }
      ]
    },
    {
      "cell_type": "code",
      "metadata": {
        "id": "I7LQg7NbPWxw",
        "colab": {
          "base_uri": "https://localhost:8080/"
        },
        "outputId": "854e6cb9-648e-443b-8a5a-7072ce7bcf43"
      },
      "source": [
        "# funcion para cambiar valores nulos por la moda\n",
        "def nan_to_mode(df, nan_values_dict):\n",
        "  values = list(nan_values_dict.values())\n",
        "  keys = list(nan_values_dict.keys())\n",
        "  \n",
        "  for i in values:\n",
        "      if i < float(10) and i != float(0):\n",
        "        column = keys[values.index(i)]\n",
        "        print(f\"'{column}' has {round(i,2)}% of NaN values, I will replace it by the mode. \\n\")\n",
        "        df[column] = df[column].fillna(df[column].mode()[0])\n",
        "  return df\n",
        "\n",
        "working_df = nan_to_mode(cars, nan_percent_values)"
      ],
      "execution_count": 9,
      "outputs": [
        {
          "output_type": "stream",
          "text": [
            "'manufacturer' has 3.65% of NaN values, I will replace it by the mode. \n",
            "\n",
            "'fuel' has 0.84% of NaN values, I will replace it by the mode. \n",
            "\n",
            "'title_status' has 0.66% of NaN values, I will replace it by the mode. \n",
            "\n",
            "'transmission' has 0.99% of NaN values, I will replace it by the mode. \n",
            "\n"
          ],
          "name": "stdout"
        }
      ]
    },
    {
      "cell_type": "code",
      "metadata": {
        "id": "oGjJMrAPRWpd",
        "colab": {
          "base_uri": "https://localhost:8080/"
        },
        "outputId": "79e15332-37ab-41b6-d649-a3c32ed0aa5a"
      },
      "source": [
        "# verificacion del cambio\n",
        "working_df.isna().sum()/working_df.shape[0] * 100"
      ],
      "execution_count": 10,
      "outputs": [
        {
          "output_type": "execute_result",
          "data": {
            "text/plain": [
              "year             0.000000\n",
              "manufacturer     0.000000\n",
              "condition       36.860649\n",
              "cylinders       28.306355\n",
              "fuel             0.000000\n",
              "title_status     0.000000\n",
              "transmission     0.000000\n",
              "drive           13.280189\n",
              "size            58.133621\n",
              "type            11.566661\n",
              "paint_color     19.734571\n",
              "price            0.000000\n",
              "dtype: float64"
            ]
          },
          "metadata": {
            "tags": []
          },
          "execution_count": 10
        }
      ]
    },
    {
      "cell_type": "markdown",
      "metadata": {
        "id": "Zgh2Ln_eX9eC"
      },
      "source": [
        "## Transformación de los tipos de datos: One Hot Encoding"
      ]
    },
    {
      "cell_type": "code",
      "metadata": {
        "id": "dfQY7MJyX_MJ",
        "colab": {
          "base_uri": "https://localhost:8080/"
        },
        "outputId": "95bdfe1e-f7ec-45c8-8a1d-8b1490555cd7"
      },
      "source": [
        "# tipos de datos existentes en el dataframe \n",
        "types = pd.DataFrame(data=working_df.dtypes, columns=['Variable types'])\n",
        "types.groupby('Variable types').size()"
      ],
      "execution_count": 11,
      "outputs": [
        {
          "output_type": "execute_result",
          "data": {
            "text/plain": [
              "Variable types\n",
              "int64      2\n",
              "object    10\n",
              "dtype: int64"
            ]
          },
          "metadata": {
            "tags": []
          },
          "execution_count": 11
        }
      ]
    },
    {
      "cell_type": "code",
      "metadata": {
        "id": "CLJKHYYue7Mz",
        "colab": {
          "base_uri": "https://localhost:8080/"
        },
        "outputId": "db4a452b-5f5a-44e5-91b2-64454521d546"
      },
      "source": [
        "# seleccionar datos de tipo objeto\n",
        "objects_list = list(types[types.values == 'object'].index)\n",
        "objects_list"
      ],
      "execution_count": 13,
      "outputs": [
        {
          "output_type": "execute_result",
          "data": {
            "text/plain": [
              "['manufacturer',\n",
              " 'condition',\n",
              " 'cylinders',\n",
              " 'fuel',\n",
              " 'title_status',\n",
              " 'transmission',\n",
              " 'drive',\n",
              " 'size',\n",
              " 'type',\n",
              " 'paint_color']"
            ]
          },
          "metadata": {
            "tags": []
          },
          "execution_count": 13
        }
      ]
    },
    {
      "cell_type": "markdown",
      "metadata": {
        "id": "EzS_fgD-5PGd"
      },
      "source": [
        "A continuación se explora el contenido de cada columna con el fin de identificar que todos los datos a utilizar aporten valor al análisis. "
      ]
    },
    {
      "cell_type": "code",
      "metadata": {
        "colab": {
          "base_uri": "https://localhost:8080/"
        },
        "id": "A0sQ_TQI5-F6",
        "outputId": "1cb6b0c1-eaff-4b77-b888-380c947d68fc"
      },
      "source": [
        "for column in objects_list:\n",
        "  print(f\"Column: {column}\")\n",
        "  print(f\"Data: {list(working_df[column].value_counts().index)}\")\n",
        "  print()"
      ],
      "execution_count": 23,
      "outputs": [
        {
          "output_type": "stream",
          "text": [
            "Column: manufacturer\n",
            "Data: ['ford', 'chevrolet', 'toyota', 'nissan', 'honda', 'jeep', 'ram', 'gmc', 'dodge', 'bmw', 'hyundai', 'subaru', 'mercedes-benz', 'volkswagen', 'chrysler', 'kia', 'cadillac', 'buick', 'lexus', 'mazda', 'audi', 'acura', 'infiniti', 'pontiac', 'lincoln', 'volvo', 'mitsubishi', 'mini', 'rover', 'mercury', 'saturn', 'jaguar', 'fiat', 'harley-davidson', 'datsun', 'alfa-romeo', 'land rover', 'aston-martin', 'porche', 'ferrari', 'hennessey', 'morgan']\n",
            "\n",
            "Column: condition\n",
            "Data: ['excellent', 'good', 'like new', 'fair', 'new', 'salvage']\n",
            "\n",
            "Column: cylinders\n",
            "Data: ['6 cylinders', '8 cylinders', '4 cylinders', '5 cylinders', '10 cylinders', 'other', '3 cylinders', '12 cylinders']\n",
            "\n",
            "Column: fuel\n",
            "Data: ['gas', 'diesel', 'other', 'hybrid', 'electric']\n",
            "\n",
            "Column: title_status\n",
            "Data: ['clean', 'rebuilt', 'salvage', 'lien', 'missing', 'parts only']\n",
            "\n",
            "Column: transmission\n",
            "Data: ['automatic', 'manual', 'other']\n",
            "\n",
            "Column: drive\n",
            "Data: ['4wd', 'fwd', 'rwd']\n",
            "\n",
            "Column: size\n",
            "Data: ['full-size', 'mid-size', 'compact', 'sub-compact']\n",
            "\n",
            "Column: type\n",
            "Data: ['sedan', 'SUV', 'pickup', 'truck', 'coupe', 'hatchback', 'other', 'wagon', 'convertible', 'van', 'mini-van', 'offroad', 'bus']\n",
            "\n",
            "Column: paint_color\n",
            "Data: ['white', 'black', 'silver', 'blue', 'red', 'grey', 'green', 'custom', 'brown', 'yellow', 'orange', 'purple']\n",
            "\n"
          ],
          "name": "stdout"
        }
      ]
    },
    {
      "cell_type": "markdown",
      "metadata": {
        "id": "wuBF7CSG0Fy7"
      },
      "source": [
        "👉 Del código anterior se observa que las columnas `cylinders`, `fuel`, `transmission`, y `type`, tienen data etiquetada como `other`, lo cual **no aporta valor**. Por lo tanto, esta etiqueta será eliminada en el proceso final de One Hot Encoding. "
      ]
    },
    {
      "cell_type": "code",
      "metadata": {
        "id": "3f__kFlGjNSm",
        "colab": {
          "base_uri": "https://localhost:8080/"
        },
        "outputId": "03fd747c-6ae4-4139-88ec-878ef51a99cd"
      },
      "source": [
        "def OneHotEncoding_df(df, column):\n",
        "  OHE_df = pd.get_dummies(column+'_'+df[column])\n",
        "  return OHE_df\n",
        "\n",
        "for category in objects_list:\n",
        "  mask = OneHotEncoding_df(working_df, category)\n",
        "  print(f'column {category} transformed!')\n",
        "  working_df.drop(category, axis=1, inplace=True)\n",
        "  working_df = pd.concat([working_df, (mask).astype(int)], axis=1)\n",
        "\n",
        "print(f\"Dataset final size: {working_df.shape}\")"
      ],
      "execution_count": 24,
      "outputs": [
        {
          "output_type": "stream",
          "text": [
            "column manufacturer transformed!\n",
            "column condition transformed!\n",
            "column cylinders transformed!\n",
            "column fuel transformed!\n",
            "column title_status transformed!\n",
            "column transmission transformed!\n",
            "column drive transformed!\n",
            "column size transformed!\n",
            "column type transformed!\n",
            "column paint_color transformed!\n",
            "Dataset final size: (434542, 104)\n"
          ],
          "name": "stdout"
        }
      ]
    },
    {
      "cell_type": "code",
      "metadata": {
        "id": "F3Gd5qLfsSVX"
      },
      "source": [
        "working_df.drop(['cylinders_other', 'transmission_other', 'fuel_other', 'type_other'], axis=1, inplace=True)"
      ],
      "execution_count": 25,
      "outputs": []
    },
    {
      "cell_type": "code",
      "metadata": {
        "id": "mzsO9qbxubMT",
        "colab": {
          "base_uri": "https://localhost:8080/"
        },
        "outputId": "452e35ec-503a-4b20-8242-8788f4dd67fb"
      },
      "source": [
        "working_df.shape"
      ],
      "execution_count": 26,
      "outputs": [
        {
          "output_type": "execute_result",
          "data": {
            "text/plain": [
              "(434542, 100)"
            ]
          },
          "metadata": {
            "tags": []
          },
          "execution_count": 26
        }
      ]
    },
    {
      "cell_type": "code",
      "metadata": {
        "id": "5GWL1Q2Cv9WY",
        "colab": {
          "base_uri": "https://localhost:8080/"
        },
        "outputId": "5bc2ee3c-f1cf-4661-e573-16c98f308214"
      },
      "source": [
        "# por último verificamos el cambio total a variables categóricas\n",
        "types = pd.DataFrame(data=working_df.dtypes, columns=['Variable types'])\n",
        "types.groupby('Variable types').size()"
      ],
      "execution_count": 32,
      "outputs": [
        {
          "output_type": "execute_result",
          "data": {
            "text/plain": [
              "Variable types\n",
              "int64    100\n",
              "dtype: int64"
            ]
          },
          "metadata": {
            "tags": []
          },
          "execution_count": 32
        }
      ]
    },
    {
      "cell_type": "markdown",
      "metadata": {
        "id": "UmIBHziunJkR"
      },
      "source": [
        "# Exportar DataFrame"
      ]
    },
    {
      "cell_type": "code",
      "metadata": {
        "id": "CfNlyuYBnMNx"
      },
      "source": [
        "working_df.to_parquet('./datasets/cars.parquet')"
      ],
      "execution_count": 29,
      "outputs": []
    }
  ]
}