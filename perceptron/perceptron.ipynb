{
  "nbformat": 4,
  "nbformat_minor": 0,
  "metadata": {
    "colab": {
      "name": "perceptron.ipynb",
      "provenance": [],
      "collapsed_sections": []
    },
    "kernelspec": {
      "display_name": "Python 3",
      "name": "python3"
    }
  },
  "cells": [
    {
      "cell_type": "markdown",
      "metadata": {
        "id": "_VfqD089-WuQ"
      },
      "source": [
        "# Perceptron\n",
        "\n",
        "Es la representación más simple de una neurona, su salida es de característica binaria (1, 0) y depende de una combinación lineal de las señales de entrada. El esquema visual de un perceptrón puede entenderse de la siguiente manera:\n",
        "\n",
        "<p align=\"center\">\n",
        "  <img width=\"700\" src=\"https://www.notion.so/image/https%3A%2F%2Fs3-us-west-2.amazonaws.com%2Fsecure.notion-static.com%2F41092d10-449a-4811-a3e6-72cb4fbbc9d6%2FUntitled.png?table=block&id=9ef4c507-d4b5-464f-909a-5e785b3ab8ac&width=1880&userId=5d54f20c-b387-4e7e-b2a5-d88e235ada88&cache=v2\">\n",
        "</p>\n",
        "\n",
        "donde, \n",
        "\n",
        "- ➡️ Las señales de entradas son números que se multiplican por los pesos sinápticos. \n",
        "\n",
        "- ➡️ La multiplicación entra a la *Unión sumadora*.\n",
        "\n",
        "- ➡️ La unión sumadora agrupa los resultados, y los envía a la función de activación. \n",
        "\n",
        "- ➡️ La función de activación sirve como filtro para discernir sobre la información objetivo, ya que esta solo se activa si el resultado supera cierto umbral.\n",
        "\n"
      ]
    },
    {
      "cell_type": "markdown",
      "metadata": {
        "id": "LLzC_p1JoK7Z"
      },
      "source": [
        "# Objeto de estudio\n",
        "\n",
        "El perceptrón será aplicado sobre el Famoso set de datos [IRIS](https://scikit-learn.org/stable/modules/generated/sklearn.datasets.load_iris.html) que contiene información de 3 diferentes especies (target):\n",
        "\n",
        "* Iris-Setosa (0)\n",
        "* Iris-Versicolor (1)\n",
        "* Iris-Virginica (2)\n",
        "\n",
        "El dataset contiene 150 muestras (50 por cada especie) y 4 características:\n",
        "\n",
        "* Longitud del sepalo (cm)\n",
        "* Ancho del sepalo (cm)\n",
        "* Longitud del petalo (cm)\n",
        "* Ancho del petalo (cm)\n",
        "\n"
      ]
    },
    {
      "cell_type": "code",
      "metadata": {
        "id": "VLkXmSMOB7De"
      },
      "source": [
        "# Configuraciones iniciales\n",
        "\n",
        "# importar datos y modelo\n",
        "from sklearn.datasets import load_iris\n",
        "from sklearn.linear_model import Perceptron\n",
        "from sklearn.model_selection import train_test_split\n",
        "from sklearn.metrics import accuracy_score\n",
        "\n",
        "# para la manipulación de datos\n",
        "import numpy as np\n",
        "import pandas as pd\n",
        "\n",
        "# para la visualización de datos\n",
        "import seaborn as sns\n",
        "import matplotlib.pyplot as plt\n",
        "\n",
        "palette = sns.color_palette('Set1')\n",
        "\n",
        "#sns.set_palette('Set1')\n",
        "%matplotlib inline"
      ],
      "execution_count": null,
      "outputs": []
    },
    {
      "cell_type": "code",
      "metadata": {
        "id": "0H_WQ1AYmIRF"
      },
      "source": [
        "# cargar dataset \n",
        "iris = load_iris()\n",
        "\n",
        "# cargar dataset en pandas\n",
        "df = pd.DataFrame(data=iris.data, columns=iris.feature_names)\n",
        "\n",
        "# definir variables objetivos\n",
        "labels = iris.target"
      ],
      "execution_count": null,
      "outputs": []
    },
    {
      "cell_type": "markdown",
      "metadata": {
        "id": "wxXqGmVm8jcx"
      },
      "source": [
        "## Análisis exploratorio inicial: clasificación de acuerdo a la longitud y ancho del pétalo"
      ]
    },
    {
      "cell_type": "code",
      "metadata": {
        "colab": {
          "base_uri": "https://localhost:8080/",
          "height": 206
        },
        "id": "46w3Hs_DifTl",
        "outputId": "996d8d62-6400-42a2-fbe8-5ed3800cd5c9"
      },
      "source": [
        "df_petal = df.drop(['sepal length (cm)', 'sepal width (cm)'], axis=1)\n",
        "df_petal.head()"
      ],
      "execution_count": null,
      "outputs": [
        {
          "output_type": "execute_result",
          "data": {
            "text/html": [
              "<div>\n",
              "<style scoped>\n",
              "    .dataframe tbody tr th:only-of-type {\n",
              "        vertical-align: middle;\n",
              "    }\n",
              "\n",
              "    .dataframe tbody tr th {\n",
              "        vertical-align: top;\n",
              "    }\n",
              "\n",
              "    .dataframe thead th {\n",
              "        text-align: right;\n",
              "    }\n",
              "</style>\n",
              "<table border=\"1\" class=\"dataframe\">\n",
              "  <thead>\n",
              "    <tr style=\"text-align: right;\">\n",
              "      <th></th>\n",
              "      <th>petal length (cm)</th>\n",
              "      <th>petal width (cm)</th>\n",
              "    </tr>\n",
              "  </thead>\n",
              "  <tbody>\n",
              "    <tr>\n",
              "      <th>0</th>\n",
              "      <td>1.4</td>\n",
              "      <td>0.2</td>\n",
              "    </tr>\n",
              "    <tr>\n",
              "      <th>1</th>\n",
              "      <td>1.4</td>\n",
              "      <td>0.2</td>\n",
              "    </tr>\n",
              "    <tr>\n",
              "      <th>2</th>\n",
              "      <td>1.3</td>\n",
              "      <td>0.2</td>\n",
              "    </tr>\n",
              "    <tr>\n",
              "      <th>3</th>\n",
              "      <td>1.5</td>\n",
              "      <td>0.2</td>\n",
              "    </tr>\n",
              "    <tr>\n",
              "      <th>4</th>\n",
              "      <td>1.4</td>\n",
              "      <td>0.2</td>\n",
              "    </tr>\n",
              "  </tbody>\n",
              "</table>\n",
              "</div>"
            ],
            "text/plain": [
              "   petal length (cm)  petal width (cm)\n",
              "0                1.4               0.2\n",
              "1                1.4               0.2\n",
              "2                1.3               0.2\n",
              "3                1.5               0.2\n",
              "4                1.4               0.2"
            ]
          },
          "metadata": {
            "tags": []
          },
          "execution_count": 4
        }
      ]
    },
    {
      "cell_type": "code",
      "metadata": {
        "colab": {
          "base_uri": "https://localhost:8080/"
        },
        "id": "1voIsAMCAudU",
        "outputId": "4b9c7c12-68cd-4d7c-abec-1c8d1a9c62d0"
      },
      "source": [
        "labels"
      ],
      "execution_count": null,
      "outputs": [
        {
          "output_type": "execute_result",
          "data": {
            "text/plain": [
              "array([0, 0, 0, 0, 0, 0, 0, 0, 0, 0, 0, 0, 0, 0, 0, 0, 0, 0, 0, 0, 0, 0,\n",
              "       0, 0, 0, 0, 0, 0, 0, 0, 0, 0, 0, 0, 0, 0, 0, 0, 0, 0, 0, 0, 0, 0,\n",
              "       0, 0, 0, 0, 0, 0, 1, 1, 1, 1, 1, 1, 1, 1, 1, 1, 1, 1, 1, 1, 1, 1,\n",
              "       1, 1, 1, 1, 1, 1, 1, 1, 1, 1, 1, 1, 1, 1, 1, 1, 1, 1, 1, 1, 1, 1,\n",
              "       1, 1, 1, 1, 1, 1, 1, 1, 1, 1, 1, 1, 2, 2, 2, 2, 2, 2, 2, 2, 2, 2,\n",
              "       2, 2, 2, 2, 2, 2, 2, 2, 2, 2, 2, 2, 2, 2, 2, 2, 2, 2, 2, 2, 2, 2,\n",
              "       2, 2, 2, 2, 2, 2, 2, 2, 2, 2, 2, 2, 2, 2, 2, 2, 2, 2])"
            ]
          },
          "metadata": {
            "tags": []
          },
          "execution_count": 5
        }
      ]
    },
    {
      "cell_type": "code",
      "metadata": {
        "id": "30c0BOdsA1Zq"
      },
      "source": [
        "labels_name = []\n",
        "for i in labels:\n",
        "  if i == 0:\n",
        "    labels_name.append('Setosa')\n",
        "  elif i == 1:\n",
        "    labels_name.append('Versicolor')\n",
        "  elif i == 2:\n",
        "    labels_name.append('Virginica')"
      ],
      "execution_count": null,
      "outputs": []
    },
    {
      "cell_type": "code",
      "metadata": {
        "colab": {
          "base_uri": "https://localhost:8080/",
          "height": 388
        },
        "id": "bLpd8GjfBWiy",
        "outputId": "2f068cde-6b66-4726-bcc4-b418b53a6927"
      },
      "source": [
        "plt.figure(figsize=(13,6))\n",
        "sns.scatterplot(x=\"petal length (cm)\",\n",
        "                y=\"petal width (cm)\",\n",
        "                data=df_petal,\n",
        "                hue=labels_name)\n",
        "plt.show()"
      ],
      "execution_count": null,
      "outputs": [
        {
          "output_type": "display_data",
          "data": {
            "image/png": "[encoded data removed]",
            "text/plain": [
              "<Figure size 936x432 with 1 Axes>"
            ]
          },
          "metadata": {
            "tags": []
          }
        }
      ]
    },
    {
      "cell_type": "markdown",
      "metadata": {
        "id": "lwQKU3asBzjW"
      },
      "source": [
        "Cada especie tiene su color representativo en la gráfica, lo cual hace que la clasificación sea muy evidente. Ahora se implementara la arquitectura del perceptrón con la intención de que el algoritmo logre identificar estos patrones y así sea capaz de realizar predicciones. \n"
      ]
    },
    {
      "cell_type": "markdown",
      "metadata": {
        "id": "kgqQgBfzn9hA"
      },
      "source": [
        "# Implementando el perceptrón en una clasificación binaria: ¿Es iris virginica o no?"
      ]
    },
    {
      "cell_type": "code",
      "metadata": {
        "colab": {
          "background_save": true,
          "base_uri": "https://localhost:8080/",
          "height": 474
        },
        "id": "_jyNNR1YqH4o",
        "outputId": "ccfe972a-47c8-4eb1-8b70-5e2637d8d9b1"
      },
      "source": [
        "X = df_petal\n",
        "y = iris.target\n",
        "\n",
        "# separacion de datos\n",
        "X_train,X_test, y_train,y_test = train_test_split(X,y, test_size = 0.2)\n",
        "\n",
        "# clasificacion\n",
        "y_training = (y_train==2).astype(np.int)\n",
        "y_testing = (y_test==2).astype(np.int)\n",
        "\n",
        "# arquitectura perceptron\n",
        "perceptron_ = Perceptron()\n",
        "\n",
        "# entrenamiento\n",
        "perceptron_.fit(X_train, y_training)\n",
        "\n",
        "# prediccion\n",
        "y_predict = perceptron_.predict(X_test)\n",
        "accuracy = perceptron_.score(y_testing,y_predict)\n",
        "print(f\"Accuracy del perceptrón:' {round(accuracy,3)}\")"
      ],
      "execution_count": null,
      "outputs": [
        {
          "output_type": "execute_result",
          "data": {
            "text/plain": [
              "Perceptron(alpha=0.0001, class_weight=None, early_stopping=False, eta0=1.0,\n",
              "           fit_intercept=True, max_iter=1000, n_iter_no_change=5, n_jobs=None,\n",
              "           penalty=None, random_state=0, shuffle=True, tol=0.001,\n",
              "           validation_fraction=0.1, verbose=0, warm_start=False)"
            ]
          },
          "metadata": {
            "tags": []
          },
          "execution_count": 0
        }
      ]
    },
    {
      "cell_type": "markdown",
      "metadata": {
        "id": "mnXl6wS7GFGz"
      },
      "source": [
        "Ahora que se ha entrenado el modelo con sus configuraciones por defecto, evaluemos rápidamente su predicción con estas dos condiciones: \n",
        "\n",
        "1. ¿Es iris virginica un pétalo de 5.1 cm de longitud y de 2 cm de ancho?\n",
        "2. ¿Es iris virginica un pétalo de 1.4 cm de longitud y 0.2 cm de ancho?"
      ]
    },
    {
      "cell_type": "code",
      "metadata": {
        "colab": {
          "base_uri": "https://localhost:8080/"
        },
        "id": "3pF64g3nr9hm",
        "outputId": "14942808-4ce1-4d33-eb17-a33a71c86f1b"
      },
      "source": [
        "# prediccion\n",
        "y1_pred = test_perceptron_.predict([[5.1, 2]])\n",
        "y2_pred = test_perceptron_.predict([[1.4, 0.2]])\n",
        "print(f\"Predicción 1: {y1_pred}, Predicción 2:{y2_pred}\")"
      ],
      "execution_count": null,
      "outputs": [
        {
          "output_type": "stream",
          "text": [
            "Predicción 1: [1], Predicción 2:[0]\n"
          ],
          "name": "stdout"
        }
      ]
    },
    {
      "cell_type": "markdown",
      "metadata": {
        "id": "Gtxuk4Txdxnc"
      },
      "source": [
        "De acuerdo al modelo, la primeras características corresponden a una flor de la especie Virginica, mientras que la otra no. Grafiquemos los resultados para evaluar su desempeño."
      ]
    },
    {
      "cell_type": "code",
      "metadata": {
        "colab": {
          "base_uri": "https://localhost:8080/",
          "height": 388
        },
        "id": "QHVza_6XIqYL",
        "outputId": "495ba163-ef8a-4fae-ee26-9440e4052473"
      },
      "source": [
        "plt.figure(figsize=(13,6))\n",
        "sns.scatterplot(x=\"petal length (cm)\",\n",
        "                y=\"petal width (cm)\",\n",
        "                data=df_petal,\n",
        "                hue=labels_name)\n",
        "\n",
        "plt.plot(5.1,2,'ro') \n",
        "plt.annotate('y1_pred', xy=(5.1,2), xytext=(4.5,2.2),\n",
        "             arrowprops=dict(facecolor='black', shrink=0.05, width=0.5, headwidth=6),\n",
        "            horizontalalignment='right', verticalalignment='top')\n",
        "\n",
        "plt.plot(1.4,0.2,'ro') \n",
        "plt.annotate('y2_pred', xy=(1.4,0.2), xytext=(1.55,0.8), \n",
        "             arrowprops=dict(facecolor='black', shrink=0.05, width=0.5, headwidth=6),\n",
        "            horizontalalignment='right', verticalalignment='top')\n",
        "plt.show()"
      ],
      "execution_count": null,
      "outputs": [
        {
          "output_type": "display_data",
          "data": {
            "image/png": "[encoded data removed]",
            "text/plain": [
              "<Figure size 936x432 with 1 Axes>"
            ]
          },
          "metadata": {
            "tags": []
          }
        }
      ]
    },
    {
      "cell_type": "markdown",
      "metadata": {
        "id": "5iVYjQhSHfTk"
      },
      "source": [
        "Con esta visualización, encontramos que el algoritmo ha sido capaz de clasificar correctamente.\n",
        "\n",
        "*El* Perceptrón permite implementar **clasificadores binarios muy simples**, sin embargo a la hora de enfrentar problemas más complejos como la identificación de patrones se recurre a combinar múltiples perceptrones."
      ]
    }
  ]
}