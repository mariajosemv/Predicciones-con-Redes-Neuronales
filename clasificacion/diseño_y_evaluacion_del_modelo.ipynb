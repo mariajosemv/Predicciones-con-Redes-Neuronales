{
  "nbformat": 4,
  "nbformat_minor": 0,
  "metadata": {
    "colab": {
      "name": "diseño_y_evaluacion_del_modelo.ipynb",
      "provenance": [],
      "collapsed_sections": [],
      "authorship_tag": "ABX9TyNKCk0mDIduVqE0uZdSYCel",
      "include_colab_link": true
    },
    "kernelspec": {
      "name": "python3",
      "display_name": "Python 3"
    }
  },
  "cells": [
    {
      "cell_type": "markdown",
      "metadata": {
        "id": "view-in-github",
        "colab_type": "text"
      },
      "source": [
        "<a href=\"https://colab.research.google.com/github/mariajosemv/Predicciones-con-Redes-Neuronales/blob/main/clasificacion/dise%C3%B1o_y_evaluacion_del_modelo.ipynb\" target=\"_parent\"><img src=\"https://colab.research.google.com/assets/colab-badge.svg\" alt=\"Open In Colab\"/></a>"
      ]
    },
    {
      "cell_type": "markdown",
      "metadata": {
        "id": "-8V-SOH-ZsXx"
      },
      "source": [
        "#División datos de entrenamiento y datos de prueba\n",
        "\n"
      ]
    },
    {
      "cell_type": "markdown",
      "metadata": {
        "id": "Ukbv6GM5hMe0"
      },
      "source": [
        "Con el dataset ya consolidado procedemos a seleccionar las muestras de entrenamiento, validación y prueba"
      ]
    },
    {
      "cell_type": "code",
      "metadata": {
        "id": "xwyEQLcnYhti",
        "colab": {
          "base_uri": "https://localhost:8080/"
        },
        "outputId": "84e06f92-5eb0-47f2-ff54-40d5af34aab7"
      },
      "source": [
        "from google.colab import drive\n",
        "#drive.mount('/content/drive/My Drive/Colab Notebooks')\n",
        "drive.mount('/content/drive')\n",
        "\n",
        "%cd '/content/drive/My Drive/Colab Notebooks/Platzi/curso-redes-neuronales/github/clasificacion'\n",
        "%ls"
      ],
      "execution_count": 1,
      "outputs": [
        {
          "output_type": "stream",
          "text": [
            "Mounted at /content/drive\n",
            "/content/drive/My Drive/Colab Notebooks/Platzi/curso-redes-neuronales/github/clasificacion\n",
            "\u001b[0m\u001b[01;34mdatasets\u001b[0m/  diseño_y_evaluacion_del_modelo.ipynb  ingenieria_de_datos.ipynb\n"
          ],
          "name": "stdout"
        }
      ]
    },
    {
      "cell_type": "code",
      "metadata": {
        "id": "UtL8yiMDUmSk"
      },
      "source": [
        "# importar librerias necesarias\n",
        "import pandas as pd\n",
        "import numpy as np\n",
        "\n",
        "from keras.models import Sequential\n",
        "from keras.layers import Dense\n",
        "from keras.utils import plot_model"
      ],
      "execution_count": 2,
      "outputs": []
    },
    {
      "cell_type": "code",
      "metadata": {
        "id": "3qqI2a4Bigs8",
        "colab": {
          "base_uri": "https://localhost:8080/"
        },
        "outputId": "7d5cb73e-f470-4e74-acf1-6609a99eb11c"
      },
      "source": [
        "variables_consolidadas = pd.read_parquet('./datasets/variables_consolidadas.parquet')\n",
        "variables_consolidadas.shape"
      ],
      "execution_count": 3,
      "outputs": [
        {
          "output_type": "execute_result",
          "data": {
            "text/plain": [
              "(2197291, 178)"
            ]
          },
          "metadata": {
            "tags": []
          },
          "execution_count": 3
        }
      ]
    },
    {
      "cell_type": "code",
      "metadata": {
        "id": "WFT4pO3icPOh"
      },
      "source": [
        "objetivo = variables_consolidadas['outcome']\n",
        "variables_consolidadas.drop('outcome', axis=1, inplace=True)"
      ],
      "execution_count": null,
      "outputs": []
    },
    {
      "cell_type": "code",
      "metadata": {
        "id": "Zpq7yjFzZy8E",
        "colab": {
          "base_uri": "https://localhost:8080/",
          "height": 123
        },
        "outputId": "6780db35-b0f7-4098-c0ba-adbf0bf1efeb"
      },
      "source": [
        "from sklearn.model_selection import train_test_split\n",
        "\n",
        "#Entrenamiento y prueba con relación 80:20\n",
        "x_train, x_test, y_train, y_test = train_test_split(variables_consolidadas,objetivo, test_size=0.2,random_state=2020)\n",
        "#Entrenamiento y validación con relación 90:10\n",
        "x_train, x_val, y_train, y_val = train_test_split(x_train,y_train, test_size=0.1, random_state=2020)\n",
        "\n",
        "print(\"Shape of x_train:\",x_train.shape)\n",
        "print(\"Shape of x_test:\",x_test.shape)\n",
        "print(\"Shape of x_val:\",x_val.shape)\n",
        "print(\"Shape of y_train:\",y_train.shape)\n",
        "print(\"Shape of y_test:\",y_test.shape)\n",
        "print(\"Shape of y_val:\",y_val.shape)"
      ],
      "execution_count": null,
      "outputs": [
        {
          "output_type": "stream",
          "text": [
            "Shape of x_train: (1582048, 177)\n",
            "Shape of x_test: (439459, 177)\n",
            "Shape of x_val: (175784, 177)\n",
            "Shape of y_train: (1582048,)\n",
            "Shape of y_test: (439459,)\n",
            "Shape of y_val: (175784,)\n"
          ],
          "name": "stdout"
        }
      ]
    },
    {
      "cell_type": "markdown",
      "metadata": {
        "id": "s66Dhl6QiC3K"
      },
      "source": [
        "# Arquitectura Propuesta"
      ]
    },
    {
      "cell_type": "markdown",
      "metadata": {
        "id": "WJ0h94FfdL3u"
      },
      "source": [
        "\n",
        "\n",
        "Una vez consolidado los sets de información de entrenamiento, validacion y pruebas ya podemos iniciar a modelar nuestra red neuronal con las siguientes consideraciones:\n",
        "\n",
        "- Debido a que el problema consiste en un clasificador binario la función de perdidas más recomendada es `binary_crossentropy`.\n",
        "\n",
        "- De manera similar una función de activación que se adecua al tipo de problema es la `sigmoid`.\n",
        "\n",
        "- La metrica para evaluación sera la precisión `accuracy`\n",
        "\n",
        "- Debido a la gran cantidad de información el entrenamiento tomara más tiempo, en este escenario se implementaran arquitecturas más pequeñas con pocas epocas de entrenamiento y se escalará el modelo a medida los resultados del accuracy mejoren.\n",
        "\n",
        "- El número de neuronas por capas se escogió nuevamente siguiendo [la regla empírica](https://www.notion.so/mariajosemv/Redes-neuronales-en-Keras-y-ScikitLearn-b8fcf479b0464021bb85d1b2a8863404#bb16b90c6737471db4ff4451244bf4c5). "
      ]
    },
    {
      "cell_type": "markdown",
      "metadata": {
        "id": "OrR9CYzuIcrO"
      },
      "source": [
        "## Red neuronal de una capa oculta"
      ]
    },
    {
      "cell_type": "code",
      "metadata": {
        "id": "b9BhFiAddTl7",
        "colab": {
          "base_uri": "https://localhost:8080/",
          "height": 284
        },
        "outputId": "050627b4-28de-4aca-ff34-9511178f3279"
      },
      "source": [
        "#Red neuronal pequeña\n",
        "model = Sequential()\n",
        "model.add(Dense(256,input_dim = x_train.shape[1],activation=\"relu\"))\n",
        "model.add(Dense(256,activation=\"relu\"))\n",
        "model.add(Dense(1,activation = \"sigmoid\")) \n",
        "model.compile(optimizer = \"Adam\",loss=\"binary_crossentropy\",metrics=[\"accuracy\"])\n",
        "\n",
        "print(model.summary())"
      ],
      "execution_count": null,
      "outputs": [
        {
          "output_type": "stream",
          "text": [
            "Model: \"sequential\"\n",
            "_________________________________________________________________\n",
            "Layer (type)                 Output Shape              Param #   \n",
            "=================================================================\n",
            "dense (Dense)                (None, 256)               45568     \n",
            "_________________________________________________________________\n",
            "dense_1 (Dense)              (None, 256)               65792     \n",
            "_________________________________________________________________\n",
            "dense_2 (Dense)              (None, 1)                 257       \n",
            "=================================================================\n",
            "Total params: 111,617\n",
            "Trainable params: 111,617\n",
            "Non-trainable params: 0\n",
            "_________________________________________________________________\n",
            "None\n"
          ],
          "name": "stdout"
        }
      ]
    },
    {
      "cell_type": "code",
      "metadata": {
        "id": "hrM5yuAQdbe3",
        "colab": {
          "base_uri": "https://localhost:8080/",
          "height": 161
        },
        "outputId": "662e60b2-c24f-4825-d285-1499f50cb96b"
      },
      "source": [
        "model.fit(x_train,y_train, validation_data = (x_val,y_val),epochs=3, batch_size=64)"
      ],
      "execution_count": null,
      "outputs": [
        {
          "output_type": "stream",
          "text": [
            "Epoch 1/3\n",
            "24720/24720 [==============================] - 79s 3ms/step - loss: 302.4033 - accuracy: 0.6713 - val_loss: 0.4606 - val_accuracy: 0.7945\n",
            "Epoch 2/3\n",
            "24720/24720 [==============================] - 78s 3ms/step - loss: 0.6086 - accuracy: 0.6910 - val_loss: 0.5546 - val_accuracy: 0.7479\n",
            "Epoch 3/3\n",
            "24720/24720 [==============================] - 77s 3ms/step - loss: 0.6816 - accuracy: 0.5695 - val_loss: 0.6888 - val_accuracy: 0.5584\n"
          ],
          "name": "stdout"
        },
        {
          "output_type": "execute_result",
          "data": {
            "text/plain": [
              "<tensorflow.python.keras.callbacks.History at 0x7f89d7c73080>"
            ]
          },
          "metadata": {
            "tags": []
          },
          "execution_count": 8
        }
      ]
    },
    {
      "cell_type": "markdown",
      "metadata": {
        "id": "MBFjQKoILkrq"
      },
      "source": [
        "👉 Los accuracy no han cambiado mucho, por lo que la red no está aprendiendo.\n",
        "\n",
        "👉 Un accuracy de 50% es equivalente a clasificar al azar.\n",
        "\n",
        "Se aumentará la cantidad de capas ocultas para añadir funciones no lineales que permitan hacer una mejor clasificación y obtener un mejor accuracy. "
      ]
    },
    {
      "cell_type": "markdown",
      "metadata": {
        "id": "tpt8ZdyuKwBg"
      },
      "source": [
        "## Red neuronal de 2 capas ocultas"
      ]
    },
    {
      "cell_type": "code",
      "metadata": {
        "id": "4-FR8oM6ddo0",
        "colab": {
          "base_uri": "https://localhost:8080/",
          "height": 161
        },
        "outputId": "19bcc38e-03e5-450e-ebfd-c9d8d590b03c"
      },
      "source": [
        "#Red neuronal de 2 capas\n",
        "model = Sequential()\n",
        "model.add(Dense(512,input_dim = x_train.shape[1],activation=\"relu\"))\n",
        "model.add(Dense(512,activation=\"relu\"))\n",
        "model.add(Dense(256,activation=\"relu\"))\n",
        "model.add(Dense(1,activation = \"sigmoid\"))\n",
        "model.compile(optimizer = \"Adam\",loss=\"binary_crossentropy\",metrics=[\"accuracy\"])\n",
        "model.fit(x_train,y_train, validation_data = (x_val,y_val),epochs=3, batch_size=64)"
      ],
      "execution_count": null,
      "outputs": [
        {
          "output_type": "stream",
          "text": [
            "Epoch 1/3\n",
            "24720/24720 [==============================] - 196s 8ms/step - loss: 66.5312 - accuracy: 0.5540 - val_loss: 0.6866 - val_accuracy: 0.5573\n",
            "Epoch 2/3\n",
            "24720/24720 [==============================] - 194s 8ms/step - loss: 1.1129 - accuracy: 0.5561 - val_loss: 0.6866 - val_accuracy: 0.5573\n",
            "Epoch 3/3\n",
            "24720/24720 [==============================] - 192s 8ms/step - loss: 0.7010 - accuracy: 0.5561 - val_loss: 0.6866 - val_accuracy: 0.5573\n"
          ],
          "name": "stdout"
        },
        {
          "output_type": "execute_result",
          "data": {
            "text/plain": [
              "<tensorflow.python.keras.callbacks.History at 0x7f89d4c9d2e8>"
            ]
          },
          "metadata": {
            "tags": []
          },
          "execution_count": 9
        }
      ]
    },
    {
      "cell_type": "markdown",
      "metadata": {
        "id": "fbcKkP7K-OYf"
      },
      "source": [
        "A pesar de haber escalado el tamaño de la red los resultados siguen siendo decepcionantes. En este caso el mejor paso a seguir es **volver a validar los datos disponibles**. En este punto existen dos opciones a explorar: \n",
        "* Estandarizar las variables numericas disponibles.\n",
        "* Volver a realizar el One Hot Encoding."
      ]
    },
    {
      "cell_type": "markdown",
      "metadata": {
        "id": "qCuFtiu7NL6j"
      },
      "source": [
        "## Estandarización"
      ]
    },
    {
      "cell_type": "markdown",
      "metadata": {
        "id": "8ly3DdiowPRY"
      },
      "source": [
        "Consiste en asegurar que los datos sean coherentes entre sí; es decir, que cada tipo de datos tenga el mismo contenido y formato. Los valores estandarizados son útiles para el entrenamiento de datos que no presentan las mismas escalas, o que miden diferentes variables. [🔗](https://www.notion.so/mariajosemv/Fundamentos-de-estad-stica-y-an-lisis-de-datos-con-Python-593076c39bcb400a84e636ec9be289b8#3266210128774ac0966c377dac8f3417)"
      ]
    },
    {
      "cell_type": "code",
      "metadata": {
        "id": "bXkAfiHoeFlT",
        "colab": {
          "base_uri": "https://localhost:8080/",
          "height": 52
        },
        "outputId": "b79c76d4-1ea0-401a-8b8a-dd6c20efaf72"
      },
      "source": [
        "from sklearn.preprocessing import StandardScaler\n",
        "scaler = StandardScaler()\n",
        "scaler.fit(x_train) # solo con x_train porque y_train ya esta estandarizada (outcome)\n",
        "x_train_scaled = scaler.transform(x_train)\n",
        "x_val_scaled = scaler.transform(x_val)\n",
        "x_test_scaled = scaler.transform(x_test)\n",
        "\n",
        "\n",
        "print(x_train.shape)\n",
        "print(y_train.shape)"
      ],
      "execution_count": null,
      "outputs": [
        {
          "output_type": "stream",
          "text": [
            "(1582048, 177)\n",
            "(1582048,)\n"
          ],
          "name": "stdout"
        }
      ]
    },
    {
      "cell_type": "code",
      "metadata": {
        "id": "pCTRUXGGeH55",
        "colab": {
          "base_uri": "https://localhost:8080/",
          "height": 161
        },
        "outputId": "aedbf1a5-782b-4deb-82b3-16f04643cf11"
      },
      "source": [
        "#Red neuronal de 2 capas\n",
        "model = Sequential()\n",
        "model.add(Dense(512,input_dim = x_train_scaled.shape[1],activation=\"relu\"))\n",
        "model.add(Dense(512,activation=\"relu\"))\n",
        "model.add(Dense(256,activation=\"relu\"))\n",
        "model.add(Dense(1,activation = \"sigmoid\"))\n",
        "model.compile(optimizer = \"Adam\",loss=\"binary_crossentropy\",metrics=[\"accuracy\"])\n",
        "model.fit(x_train_scaled,y_train, validation_data = (x_val_scaled,y_val),epochs=3, batch_size=64)"
      ],
      "execution_count": null,
      "outputs": [
        {
          "output_type": "stream",
          "text": [
            "Epoch 1/3\n",
            "24720/24720 [==============================] - 191s 8ms/step - loss: 0.1981 - accuracy: 0.9124 - val_loss: 0.1435 - val_accuracy: 0.9404\n",
            "Epoch 2/3\n",
            "24720/24720 [==============================] - 194s 8ms/step - loss: 0.1196 - accuracy: 0.9512 - val_loss: 0.1088 - val_accuracy: 0.9571\n",
            "Epoch 3/3\n",
            "24720/24720 [==============================] - 195s 8ms/step - loss: 0.0930 - accuracy: 0.9633 - val_loss: 0.0957 - val_accuracy: 0.9630\n"
          ],
          "name": "stdout"
        },
        {
          "output_type": "execute_result",
          "data": {
            "text/plain": [
              "<tensorflow.python.keras.callbacks.History at 0x7ff5a7fbdf98>"
            ]
          },
          "metadata": {
            "tags": []
          },
          "execution_count": 10
        }
      ]
    },
    {
      "cell_type": "markdown",
      "metadata": {
        "id": "ubDSL59pCcBg"
      },
      "source": [
        "Con sólo la estandarización de la información el desempeño del modelo ha mejorado drasticamente logrando una precision del 96%! Podriamos seguir evaluanto redes más grandes, pero es un valor aceptable para nosotros por el momento. \n",
        "\n",
        "El desempeño con el set de prueba sigue siendo bueno por lo cual ya podemos emplear la arquitectura definida y realizar un entrenamiento con un mayor número de epocas."
      ]
    },
    {
      "cell_type": "code",
      "metadata": {
        "id": "blyLW_F8eRc4",
        "colab": {
          "base_uri": "https://localhost:8080/",
          "height": 464
        },
        "outputId": "7c38f21a-60d5-4e7b-8e9b-bc6cf8a6c440"
      },
      "source": [
        "model = Sequential()\n",
        "model.add(Dense(512,input_dim = x_train_scaled.shape[1],activation=\"relu\"))\n",
        "model.add(Dense(512,activation=\"relu\"))\n",
        "model.add(Dense(256,activation=\"relu\"))\n",
        "model.add(Dense(1,activation = \"sigmoid\"))\n",
        "model.compile(optimizer = \"Adam\",loss=\"binary_crossentropy\",metrics=[\"accuracy\"])\n",
        "history = model.fit(x_train_scaled,y_train, validation_data = (x_val_scaled,y_val),epochs=12, batch_size=64)"
      ],
      "execution_count": null,
      "outputs": [
        {
          "output_type": "stream",
          "text": [
            "Epoch 1/12\n",
            "24720/24720 [==============================] - 194s 8ms/step - loss: 0.1969 - accuracy: 0.9131 - val_loss: 0.1399 - val_accuracy: 0.9419\n",
            "Epoch 2/12\n",
            "24720/24720 [==============================] - 189s 8ms/step - loss: 0.1175 - accuracy: 0.9527 - val_loss: 0.1058 - val_accuracy: 0.9583\n",
            "Epoch 3/12\n",
            "24720/24720 [==============================] - 189s 8ms/step - loss: 0.0911 - accuracy: 0.9641 - val_loss: 0.0928 - val_accuracy: 0.9638\n",
            "Epoch 4/12\n",
            "24720/24720 [==============================] - 193s 8ms/step - loss: 0.0769 - accuracy: 0.9700 - val_loss: 0.0810 - val_accuracy: 0.9699\n",
            "Epoch 5/12\n",
            "24720/24720 [==============================] - 192s 8ms/step - loss: 0.0675 - accuracy: 0.9739 - val_loss: 0.0778 - val_accuracy: 0.9715\n",
            "Epoch 6/12\n",
            "24720/24720 [==============================] - 188s 8ms/step - loss: 0.0607 - accuracy: 0.9766 - val_loss: 0.0720 - val_accuracy: 0.9745\n",
            "Epoch 7/12\n",
            "24720/24720 [==============================] - 189s 8ms/step - loss: 0.0563 - accuracy: 0.9784 - val_loss: 0.0739 - val_accuracy: 0.9752\n",
            "Epoch 8/12\n",
            "24720/24720 [==============================] - 189s 8ms/step - loss: 0.0528 - accuracy: 0.9800 - val_loss: 0.0756 - val_accuracy: 0.9754\n",
            "Epoch 9/12\n",
            "24720/24720 [==============================] - 193s 8ms/step - loss: 0.0494 - accuracy: 0.9810 - val_loss: 0.0660 - val_accuracy: 0.9775\n",
            "Epoch 10/12\n",
            "24720/24720 [==============================] - 191s 8ms/step - loss: 0.0496 - accuracy: 0.9820 - val_loss: 0.0653 - val_accuracy: 0.9782\n",
            "Epoch 11/12\n",
            "24720/24720 [==============================] - 190s 8ms/step - loss: 0.0451 - accuracy: 0.9829 - val_loss: 0.0655 - val_accuracy: 0.9790\n",
            "Epoch 12/12\n",
            "24720/24720 [==============================] - 190s 8ms/step - loss: 0.0435 - accuracy: 0.9836 - val_loss: 0.0823 - val_accuracy: 0.9792\n"
          ],
          "name": "stdout"
        }
      ]
    },
    {
      "cell_type": "markdown",
      "metadata": {
        "id": "SE5B7sOET7wr"
      },
      "source": [
        "El siguiente paso es probar este mismo modelo con información que la red nunca haya visto (set de prueba)"
      ]
    },
    {
      "cell_type": "code",
      "metadata": {
        "id": "BndFEUgiePur",
        "colab": {
          "base_uri": "https://localhost:8080/",
          "height": 70
        },
        "outputId": "9254dc94-01ba-49b2-cd14-07b6572e3ff8"
      },
      "source": [
        "result = model.evaluate(x_test_scaled,y_test)\n",
        "for i in range(len(model.metrics_names)):\n",
        " print(\"Metric \",model.metrics_names[i],\":\",\n",
        "str(round(result[i],2)))"
      ],
      "execution_count": null,
      "outputs": [
        {
          "output_type": "stream",
          "text": [
            "13734/13734 [==============================] - 27s 2ms/step - loss: 0.0640 - accuracy: 0.9796\n",
            "Metric  loss : 0.06\n",
            "Metric  accuracy : 0.98\n"
          ],
          "name": "stdout"
        }
      ]
    },
    {
      "cell_type": "markdown",
      "metadata": {
        "id": "rePA1nNIeezv"
      },
      "source": [
        "# Evaluación del modelo\n",
        "\n",
        "La red ha logrado mejorar un poco su desempeño con más epocas de entrenamiento. Finalmente vamos a evaluar gráficamente el desempeño de la función de pérdidas y la presición a traves de cada época de entrenamiento con el fin de validar algun posible sobre-entrenamiento (*overfitting*).\n",
        "\n",
        "P.D.: Una indicación de que existe *overfitting* es cuando a medida de que se va aumentando la complejidad de la red neuronal, la función de coste del set de entrenamiento se ajusta muchísimo a la función de coste del set de prueba, y luego estas dos funciones comienzan a diverger [🔗](https://www.notion.so/mariajosemv/Redes-neuronales-en-Keras-y-ScikitLearn-b8fcf479b0464021bb85d1b2a8863404#8c1bc491b78b49b99643b321ff29334d).\n",
        "\n"
      ]
    },
    {
      "cell_type": "code",
      "metadata": {
        "id": "XWhT4LfEemB-",
        "colab": {
          "base_uri": "https://localhost:8080/",
          "height": 406
        },
        "outputId": "2f088197-4bfd-43fa-e4e5-ba75375d4e50"
      },
      "source": [
        "import matplotlib.pyplot as plt\n",
        "%matplotlib inline\n",
        "\n",
        "plt.figure(figsize=(13,6))\n",
        "plt.plot(history.history['loss'])\n",
        "plt.plot(history.history['val_loss'])\n",
        "plt.title(\"Pérdidas del modelo con set de entrenamiento y pruebas por época\")\n",
        "plt.ylabel('Pérdidas')\n",
        "plt.xlabel('Épocas')\n",
        "plt.legend(['Entrenamiento', 'Validación'], loc='upper right')\n",
        "plt.show()"
      ],
      "execution_count": null,
      "outputs": [
        {
          "output_type": "display_data",
          "data": {
            "image/png": "[encoded data removed]",
            "text/plain": [
              "<Figure size 936x432 with 1 Axes>"
            ]
          },
          "metadata": {
            "tags": [],
            "needs_background": "light"
          }
        }
      ]
    },
    {
      "cell_type": "markdown",
      "metadata": {
        "id": "hw1IAWdk0XP7"
      },
      "source": [
        "Se puede apreciar que la función de pérdida disiminuye a medida que aumenta el número de Épocas tanto con la información de entrenamiento como con la de validación. Entre estas dos líneas no se tiene una separación importante que indique la presencia de sobre ajuste por lo que se puede afirmar que el desempeño del modelo es satisfactorio. "
      ]
    },
    {
      "cell_type": "code",
      "metadata": {
        "id": "PtQP5e3yeoOd",
        "colab": {
          "base_uri": "https://localhost:8080/",
          "height": 406
        },
        "outputId": "2d0cf68d-2075-404c-b7e2-533ba62b3fbd"
      },
      "source": [
        "plt.figure(figsize=(13,6))\n",
        "plt.plot(history.history['accuracy'])\n",
        "plt.plot(history.history['val_accuracy'])\n",
        "plt.title(\"Accuracy del modelo con set de entrenamiento y pruebas por época\")\n",
        "plt.ylabel('Accuracy')\n",
        "plt.xlabel('Épocas')\n",
        "plt.legend(['Entrenamiento', 'Validación'], loc='lower right')\n",
        "plt.show()"
      ],
      "execution_count": null,
      "outputs": [
        {
          "output_type": "display_data",
          "data": {
            "image/png": "[encoded data removed]",
            "text/plain": [
              "<Figure size 936x432 with 1 Axes>"
            ]
          },
          "metadata": {
            "tags": [],
            "needs_background": "light"
          }
        }
      ]
    },
    {
      "cell_type": "markdown",
      "metadata": {
        "id": "jAaHgpe8Fy_Y"
      },
      "source": [
        "De igual manera, los resultados del accuracy tienen valores similares en el set de entrenamiento y validación, y sus gráficas no presentan inidicios de overfitting. En ambos casos, se muestra que el modelo tiene mayor accuracy cuando se soprepasan las 10 épocas de entrenamiento. "
      ]
    }
  ]
}